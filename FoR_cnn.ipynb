{
 "cells": [
  {
   "cell_type": "markdown",
   "id": "26eba201",
   "metadata": {},
   "source": [
    "# preprocessing"
   ]
  },
  {
   "cell_type": "code",
   "execution_count": null,
   "id": "5a07aca8",
   "metadata": {},
   "outputs": [],
   "source": [
    "# 用于音频分析与特征提取\n",
    "import librosa\n",
    "# 命令行解析参数\n",
    "import argparse\n",
    "\n",
    "import pandas as pd\n",
    "import numpy as np\n",
    "\n",
    "# 于序列化与反序列化对象，提取好的音频特征保存成 .pkl 文件\n",
    "import pickle as pkl \n",
    "\n",
    "import torch\n",
    "import torchaudio\n",
    "import torchvision\n",
    "\n",
    "#打开、编辑、转换图像数据\n",
    "from PIL import Image"
   ]
  },
  {
   "cell_type": "code",
   "execution_count": null,
   "id": "214888db",
   "metadata": {},
   "outputs": [],
   "source": [
    "def extract_spectrogram(values, clip, entries, sampling_rate=44100):\n",
    "\tfor data in entries:\n",
    "\n",
    "\t\tnum_channels = 3\n",
    "\t\twindow_sizes = [25, 50, 100] # 窗口大小，单位毫秒\n",
    "\t\thop_sizes = [10, 25, 50] # 步长，单位毫秒\n",
    "\t\tcentre_sec = 2.5 # 中心时间点，单位秒\n",
    "\n",
    "\t\tspecs = [] # 用于存储不同声道的频谱图\n",
    "\t\t\n",
    "\n",
    "\t\t# 对每个通道（每组窗口参数）循环，生成对应尺度的 Mel 频谱。\n",
    "\t\tfor i in range(num_channels):\n",
    "\t\t\twindow_length = int(round(window_sizes[i]*sampling_rate/1000))\n",
    "\t\t\thop_length = int(round(hop_sizes[i]*sampling_rate/1000))\n",
    "\n",
    "\t\t\t# 把 NumPy 数组格式的音频波形转换成 PyTorch 张量，以便后续用 torchaudio 处理。\n",
    "\t\t\tclip = torch.Tensor(clip)\n",
    "\n",
    "\t\t\t# 计算 Mel 频谱图\n",
    "\t\t\tspec = torchaudio.transforms.MelSpectrogram(\n",
    "\t\t\t\tsample_rate=sampling_rate, \n",
    "\t\t\t\tn_fft=4410, \n",
    "\t\t\t\twin_length=window_length, \n",
    "\t\t\t\thop_length=hop_length, \n",
    "\t\t\t\tn_mels=128)(clip)\n",
    "\t\t\t\n",
    "\t\t\teps = 1e-6\n",
    "\t\t\tspec = spec.numpy()\n",
    "\t\t\tspec = np.log(spec+ eps)\n",
    "\t\t\t# 把频谱数组转成图片对象（Image.fromarray(spec)）\n",
    "\t\t\tspec = np.asarray(torchvision.transforms.Resize((128, 250))(Image.fromarray(spec)))\n",
    "\t\t\tspecs.append(spec)\n",
    "\t\t\n",
    "\t\t# 创建一个字典 new_entry 保存当前音频样本的信息：\n",
    "\t\t# \"audio\"：原始音频波形；\n",
    "\t\t# \"values\"：3 个通道的频谱图数组（形状大致为 [3, 128, 250]）\n",
    "\t\t# \"target\"：对应的分类标签。\n",
    "\t\tnew_entry = {}\n",
    "\t\tnew_entry[\"audio\"] = clip.numpy()\n",
    "\t\tnew_entry[\"values\"] = np.array(specs)\n",
    "\t\tnew_entry[\"target\"] = data[\"target\"]\n",
    "\t\tvalues.append(new_entry)"
   ]
  },
  {
   "cell_type": "code",
   "execution_count": null,
   "id": "a47a57f1",
   "metadata": {},
   "outputs": [],
   "source": [
    "def extract_features(audios,sampling_rate=44100, data_dir=\"/Users/panzeqi/Documents/MonashUni/For_Research/ESC-50-master/audio\"):\n",
    "    # 获取所有唯一的音频文件名，避免重复处理\n",
    "    audio_names = list(audios.filename.unique())\n",
    "    # 初始化空列表，用于存放每个音频提取后的特征结果\n",
    "    values = []\n",
    "    \n",
    "    # 遍历每个音频文件\n",
    "    for audio in audio_names:\n",
    "        # 使用 librosa 加载音频文件\n",
    "        # \"{}/{}\".format(data_dir, audio)\" 拼接成完整路径，例如 \"data/audio_1.wav\"\n",
    "        # sr=sampling_rate 表示重新采样到指定采样率（如 44100 Hz）\n",
    "        clip, sr = librosa.load(\"{}/{}\".format(data_dir, audio), sr=sampling_rate)\n",
    "        \n",
    "        # 从 DataFrame 中筛选出当前音频对应的行（可能包含标签、fold 等）\n",
    "        # 然后转换为字典列表，例如：\n",
    "        # [{'filename': 'dog.wav', 'fold': 1, 'target': 'dog'}]\n",
    "        entries = audios.loc[audios[\"filename\"] == audio].to_dict(orient=\"records\")\n",
    "        \n",
    "        # 调用提取函数 extract_spectrogram()\n",
    "        # 传入当前音频波形 clip 和元信息 entries\n",
    "        # 函数内部会提取多尺度的 Mel 频谱特征，并把结果追加到 values 列表中\n",
    "        extract_spectrogram(values, clip, entries)\n",
    "        \n",
    "        # 打印进度，方便观察当前处理到哪个音频文件\n",
    "        print(\"Finished audio {}\".format(audio))\n",
    "    \n",
    "    # 返回最终的特征结果列表，每个元素是一个字典，包含：\n",
    "    # {\"audio\": 原始波形, \"values\": Mel 频谱特征, \"target\": 标签}\n",
    "    return values"
   ]
  },
  {
   "cell_type": "code",
   "execution_count": null,
   "id": "8f1317fd",
   "metadata": {},
   "outputs": [],
   "source": [
    "data_dir = '/Users/panzeqi/Documents/MonashUni/For_Research/ESC-50-master/audio'\n",
    "sampling_rate = 44100\n",
    "\n",
    "store_dir = '/Users/panzeqi/Documents/MonashUni/For_Research/ESC-50-master/img_data'\n",
    "csv_file = '/Users/panzeqi/Documents/MonashUni/For_Research/ESC-50-master/meta/esc50.csv'"
   ]
  },
  {
   "cell_type": "code",
   "execution_count": 47,
   "id": "94f504c6",
   "metadata": {},
   "outputs": [
    {
     "name": "stdout",
     "output_type": "stream",
     "text": [
      "Finished audio 2-100648-A-43.wav\n",
      "Finished audio 2-100786-A-1.wav\n",
      "Finished audio 2-101676-A-10.wav\n",
      "Finished audio 2-85434-A-27.wav\n",
      "Finished audio 2-85471-A-34.wav\n",
      "Finished audio 2-85945-A-18.wav\n",
      "Finished audio 2-86160-A-27.wav\n",
      "Finished audio 2-87282-A-34.wav\n",
      "Finished audio 2-87412-A-24.wav\n",
      "Finished audio 2-87780-A-33.wav\n",
      "Finished audio 2-87781-A-10.wav\n",
      "Finished audio 2-87794-A-24.wav\n",
      "Finished audio 2-87795-A-24.wav\n",
      "Finished audio 2-87799-A-24.wav\n",
      "Finished audio 2-88724-A-38.wav\n",
      "Finished audio 2-89516-A-37.wav\n",
      "Finished audio 2-91912-A-33.wav\n",
      "Finished audio 2-91912-B-33.wav\n",
      "Finished audio 2-92627-A-27.wav\n",
      "Finished audio 2-92978-A-29.wav\n",
      "Finished audio 2-93030-A-21.wav\n",
      "Finished audio 2-94230-A-27.wav\n",
      "Finished audio 2-94807-A-29.wav\n",
      "Finished audio 2-95035-A-1.wav\n",
      "Finished audio 2-95258-A-1.wav\n",
      "Finished audio 2-95258-B-1.wav\n",
      "Finished audio 2-95567-A-23.wav\n",
      "Finished audio 2-96033-A-13.wav\n",
      "Finished audio 2-96063-A-37.wav\n",
      "Finished audio 2-96460-A-1.wav\n",
      "Finished audio 2-96654-A-47.wav\n",
      "Finished audio 2-96904-A-27.wav\n",
      "Finished audio 2-98392-A-23.wav\n",
      "Finished audio 2-98676-A-24.wav\n",
      "Finished audio 2-98866-A-47.wav\n",
      "Finished audio 2-99795-A-32.wav\n",
      "Finished audio 2-99796-A-32.wav\n",
      "Finished audio 2-99955-A-7.wav\n",
      "Finished audio 2-99955-B-7.wav\n",
      "Finished audio 2-99955-C-7.wav\n",
      "Finished audio 3-100018-A-18.wav\n",
      "Finished audio 3-100024-A-27.wav\n",
      "Finished audio 3-100024-B-27.wav\n",
      "Finished audio 3-101381-A-33.wav\n",
      "Finished audio 3-101381-B-33.wav\n",
      "Finished audio 3-102583-A-49.wav\n",
      "Finished audio 3-102583-B-49.wav\n",
      "Finished audio 3-102583-C-49.wav\n",
      "Finished audio 3-102908-A-4.wav\n",
      "Finished audio 3-103050-A-19.wav\n",
      "Finished audio 3-103051-A-19.wav\n",
      "Finished audio 3-103051-B-19.wav\n",
      "Finished audio 3-103051-C-19.wav\n",
      "Finished audio 3-103401-A-33.wav\n",
      "Finished audio 3-103401-B-33.wav\n",
      "Finished audio 3-103401-C-33.wav\n",
      "Finished audio 3-103401-D-33.wav\n",
      "Finished audio 3-103597-A-25.wav\n",
      "Finished audio 3-103598-A-25.wav\n",
      "Finished audio 3-103599-A-25.wav\n",
      "Finished audio 3-103599-B-25.wav\n",
      "Finished audio 3-104632-A-12.wav\n",
      "Finished audio 3-104761-A-7.wav\n",
      "Finished audio 3-104761-B-7.wav\n",
      "Finished audio 3-104958-A-12.wav\n",
      "Finished audio 3-105235-A-7.wav\n",
      "Finished audio 3-105236-A-7.wav\n",
      "Finished audio 3-107123-A-26.wav\n",
      "Finished audio 3-95694-A-5.wav\n",
      "Finished audio 3-95695-A-5.wav\n",
      "Finished audio 3-95695-B-5.wav\n",
      "Finished audio 3-95697-A-5.wav\n",
      "Finished audio 3-95698-A-5.wav\n",
      "Finished audio 3-96606-A-49.wav\n",
      "Finished audio 3-96606-B-49.wav\n",
      "Finished audio 3-97909-A-49.wav\n",
      "Finished audio 3-97909-B-49.wav\n",
      "Finished audio 3-98193-A-46.wav\n",
      "Finished audio 3-98771-A-18.wav\n",
      "Finished audio 3-98869-A-46.wav\n",
      "Finished audio 4-102844-A-49.wav\n",
      "Finished audio 4-102844-B-49.wav\n",
      "Finished audio 4-102844-C-49.wav\n",
      "Finished audio 5-103415-A-2.wav\n",
      "Finished audio 5-103416-A-2.wav\n",
      "Finished audio 5-263775-B-26.wav\n",
      "Finished audio 5-263831-A-6.wav\n",
      "Finished audio 5-263831-B-6.wav\n",
      "Finished audio 5-263902-A-36.wav\n",
      "Finished audio 5-51149-A-25.wav\n",
      "Finished audio 5-61635-A-8.wav\n",
      "Finished audio 5-9032-A-0.wav\n",
      "Finished audio 1-100032-A-0.wav\n",
      "Finished audio 1-100038-A-14.wav\n",
      "Finished audio 1-9887-A-49.wav\n",
      "Finished audio 1-9887-B-49.wav\n",
      "Finished audio 1-99958-A-31.wav\n"
     ]
    }
   ],
   "source": [
    "audios = pd.read_csv(csv_file, skipinitialspace=True)\n",
    "training_audios = audios.loc[audios[\"fold\"]!=1]\n",
    "validation_audios = audios.loc[audios[\"fold\"]==1]\n",
    "training_values = extract_features(training_audios)\n",
    "with open(\"{}training128mel{}.pkl\".format(store_dir, 1),\"wb\") as handler:\n",
    "\tpkl.dump(training_values, handler, protocol=pkl.HIGHEST_PROTOCOL)\n",
    "validation_values = extract_features(validation_audios)\n",
    "with open(\"{}validation128mel{}.pkl\".format(store_dir, 1),\"wb\") as handler:\n",
    "\tpkl.dump(validation_values, handler, protocol=pkl.HIGHEST_PROTOCOL)"
   ]
  },
  {
   "cell_type": "markdown",
   "id": "ab4e5824",
   "metadata": {},
   "source": [
    "# 准备data loader 方法"
   ]
  },
  {
   "cell_type": "code",
   "execution_count": 49,
   "id": "1e8d1c2d",
   "metadata": {},
   "outputs": [],
   "source": [
    "from torch.utils.data import *\n",
    "import lmdb\n",
    "import torchvision\n",
    "import pandas as pd\n",
    "import numpy as np\n",
    "import pickle\n",
    "import torch\n",
    "from PIL import Image\n",
    "\n",
    "class AudioDataset(Dataset):\n",
    "\tdef __init__(self, pkl_dir, dataset_name, transforms=None):\n",
    "\t\tself.data = []\n",
    "\t\tself.length = 1500 if dataset_name==\"GTZAN\" else 250\n",
    "\t\tself.transforms = transforms\n",
    "\t\twith open(pkl_dir, \"rb\") as f:\n",
    "\t\t\tself.data = pickle.load(f)\n",
    "\tdef __len__(self):\n",
    "\t\treturn len(self.data)\n",
    "\tdef __getitem__(self, idx):\n",
    "\t\tentry = self.data[idx]\n",
    "\t\toutput_data = {}\n",
    "\t\tvalues = entry[\"values\"].reshape(-1, 128, self.length)\n",
    "\t\tvalues = torch.Tensor(values)\n",
    "\t\tif self.transforms:\n",
    "\t\t\tvalues = self.transforms(values)\n",
    "\t\ttarget = torch.LongTensor([entry[\"target\"]])\n",
    "\t\treturn (values, target)"
   ]
  },
  {
   "cell_type": "code",
   "execution_count": 50,
   "id": "5ad4e1f1",
   "metadata": {},
   "outputs": [],
   "source": [
    "def fetch_dataloader(pkl_dir, dataset_name, batch_size, num_workers):\n",
    "\tdataset = AudioDataset(pkl_dir, dataset_name)\n",
    "\tdataloader = DataLoader(dataset, shuffle=True, batch_size=batch_size, num_workers=num_workers)\n",
    "\treturn dataloader"
   ]
  },
  {
   "cell_type": "markdown",
   "id": "46d40e83",
   "metadata": {},
   "source": [
    "# 训练方法"
   ]
  },
  {
   "cell_type": "code",
   "execution_count": 51,
   "id": "230e3484",
   "metadata": {},
   "outputs": [],
   "source": [
    "import torch\n",
    "import torchvision\n",
    "import torch.nn as nn\n",
    "import numpy as np\n",
    "import json\n",
    "import utils\n",
    "import validate\n",
    "import argparse\n",
    "import models.densenet\n",
    "import models.resnet\n",
    "import models.inception\n",
    "import time\n",
    "import dataloaders.datasetaug\n",
    "import dataloaders.datasetnormal\n",
    "\n",
    "from tqdm import tqdm\n",
    "from tensorboardX import SummaryWriter"
   ]
  },
  {
   "cell_type": "code",
   "execution_count": 52,
   "id": "30835736",
   "metadata": {},
   "outputs": [],
   "source": [
    "config_path = '/Users/panzeqi/Documents/MonashUni/For_Research/Audio-Classification/config/esc_densenet.json'"
   ]
  },
  {
   "cell_type": "code",
   "execution_count": 53,
   "id": "a0935720",
   "metadata": {},
   "outputs": [],
   "source": [
    "def train(model, device, data_loader, optimizer, loss_fn):\n",
    "    model.train()\n",
    "    loss_avg = utils.RunningAverage()\n",
    "\n",
    "    with tqdm(total=len(data_loader)) as t:\n",
    "        for batch_idx, data in enumerate(data_loader):\n",
    "            inputs = data[0].to(device)\n",
    "            target = data[1].squeeze(1).to(device)\n",
    "\n",
    "            outputs = model(inputs)\n",
    "\n",
    "            loss = loss_fn(outputs, target)\n",
    "\n",
    "            optimizer.zero_grad()\n",
    "            loss.backward()\n",
    "            optimizer.step()\n",
    "\n",
    "            loss_avg.update(loss.item())\n",
    "\n",
    "            t.set_postfix(loss='{:05.3f}'.format(loss_avg()))\n",
    "            t.update()\n",
    "    return loss_avg()"
   ]
  },
  {
   "cell_type": "code",
   "execution_count": 54,
   "id": "1904898a",
   "metadata": {},
   "outputs": [],
   "source": [
    "def train_and_evaluate(model, device, train_loader, val_loader, optimizer, loss_fn, writer, params, split, scheduler=None):\n",
    "    best_acc = 0.0\n",
    "\n",
    "    for epoch in range(params.epochs):\n",
    "        avg_loss = train(model, device, train_loader, optimizer, loss_fn)\n",
    "\n",
    "        acc = validate.evaluate(model, device, val_loader)\n",
    "        print(\"Epoch {}/{} Loss:{} Valid Acc:{}\".format(epoch, params.epochs, avg_loss, acc))\n",
    "\n",
    "        is_best = (acc > best_acc)\n",
    "        if is_best:\n",
    "            best_acc = acc\n",
    "        if scheduler:\n",
    "            scheduler.step()\n",
    "\n",
    "        utils.save_checkpoint({\"epoch\": epoch + 1,\n",
    "                               \"model\": model.state_dict(),\n",
    "                               \"optimizer\": optimizer.state_dict()}, is_best, split, \"{}\".format(params.checkpoint_dir))\n",
    "        writer.add_scalar(\"data{}/trainingLoss{}\".format(params.dataset_name, split), avg_loss, epoch)\n",
    "        writer.add_scalar(\"data{}/valLoss{}\".format(params.dataset_name, split), acc, epoch)\n",
    "    writer.close()"
   ]
  },
  {
   "cell_type": "markdown",
   "id": "12b28cdc",
   "metadata": {},
   "source": [
    "# 训练配置"
   ]
  },
  {
   "cell_type": "code",
   "execution_count": 76,
   "id": "5e9ca436",
   "metadata": {},
   "outputs": [],
   "source": [
    "params = utils.Params('/Users/panzeqi/Documents/MonashUni/For_Research/Audio-Classification/config/esc_densenet.json')\n",
    "device = torch.device(\"cuda:0\" if torch.cuda.is_available() else \"cpu\")"
   ]
  },
  {
   "cell_type": "code",
   "execution_count": 77,
   "id": "e3b2f092",
   "metadata": {},
   "outputs": [],
   "source": [
    "train_loader = fetch_dataloader( \"{}training128mel{}.pkl\".format(params.data_dir, 1), params.dataset_name, params.batch_size, params.num_workers)\n",
    "val_loader = fetch_dataloader(\"{}validation128mel{}.pkl\".format(params.data_dir, 1), params.dataset_name, params.batch_size, params.num_workers)"
   ]
  },
  {
   "cell_type": "code",
   "execution_count": 78,
   "id": "9d699b9e",
   "metadata": {},
   "outputs": [],
   "source": [
    "writer = SummaryWriter(comment=params.dataset_name)"
   ]
  },
  {
   "cell_type": "code",
   "execution_count": 79,
   "id": "6826f31e",
   "metadata": {},
   "outputs": [
    {
     "name": "stderr",
     "output_type": "stream",
     "text": [
      "/Users/panzeqi/anaconda3/lib/python3.10/site-packages/torchvision/models/_utils.py:208: UserWarning: The parameter 'pretrained' is deprecated since 0.13 and may be removed in the future, please use 'weights' instead.\n",
      "  warnings.warn(\n",
      "/Users/panzeqi/anaconda3/lib/python3.10/site-packages/torchvision/models/_utils.py:223: UserWarning: Arguments other than a weight enum or `None` for 'weights' are deprecated since 0.13 and may be removed in the future. The current behavior is equivalent to passing `weights=DenseNet201_Weights.IMAGENET1K_V1`. You can also use `weights=DenseNet201_Weights.DEFAULT` to get the most up-to-date weights.\n",
      "  warnings.warn(msg)\n"
     ]
    }
   ],
   "source": [
    "model = models.densenet.DenseNet(params.dataset_name, params.pretrained).to(device)"
   ]
  },
  {
   "cell_type": "code",
   "execution_count": 80,
   "id": "4f7b63ca",
   "metadata": {},
   "outputs": [],
   "source": [
    "loss_fn = nn.CrossEntropyLoss()\n",
    "optimizer = torch.optim.Adam(model.parameters(), lr=params.lr, weight_decay=params.weight_decay)\n",
    "if params.scheduler:\n",
    "    scheduler = torch.optim.lr_scheduler.StepLR(optimizer, 30, gamma=0.1)\n",
    "else:\n",
    "    scheduler = None"
   ]
  },
  {
   "cell_type": "code",
   "execution_count": 81,
   "id": "95f18ee6",
   "metadata": {},
   "outputs": [
    {
     "data": {
      "text/plain": [
       "0"
      ]
     },
     "execution_count": 81,
     "metadata": {},
     "output_type": "execute_result"
    }
   ],
   "source": [
    "params.num_workers"
   ]
  },
  {
   "cell_type": "code",
   "execution_count": 82,
   "id": "e8f3be76",
   "metadata": {},
   "outputs": [
    {
     "name": "stderr",
     "output_type": "stream",
     "text": [
      "100%|██████████| 3/3 [00:22<00:00,  7.36s/it, loss=3.802]\n"
     ]
    },
    {
     "name": "stdout",
     "output_type": "stream",
     "text": [
      "Epoch 0/70 Loss:3.8023056983947754 Valid Acc:0.0\n",
      "Checkpoint Directory does not exist\n"
     ]
    },
    {
     "name": "stderr",
     "output_type": "stream",
     "text": [
      "100%|██████████| 3/3 [00:22<00:00,  7.43s/it, loss=2.532]\n"
     ]
    },
    {
     "name": "stdout",
     "output_type": "stream",
     "text": [
      "Epoch 1/70 Loss:2.5315953890482583 Valid Acc:0.0\n"
     ]
    },
    {
     "name": "stderr",
     "output_type": "stream",
     "text": [
      "100%|██████████| 3/3 [00:20<00:00,  6.89s/it, loss=1.711]\n"
     ]
    },
    {
     "name": "stdout",
     "output_type": "stream",
     "text": [
      "Epoch 2/70 Loss:1.7114782333374023 Valid Acc:20.0\n"
     ]
    },
    {
     "name": "stderr",
     "output_type": "stream",
     "text": [
      "100%|██████████| 3/3 [00:20<00:00,  6.67s/it, loss=1.135]\n"
     ]
    },
    {
     "name": "stdout",
     "output_type": "stream",
     "text": [
      "Epoch 3/70 Loss:1.134678800900777 Valid Acc:20.0\n"
     ]
    },
    {
     "name": "stderr",
     "output_type": "stream",
     "text": [
      "100%|██████████| 3/3 [00:19<00:00,  6.59s/it, loss=0.757]\n"
     ]
    },
    {
     "name": "stdout",
     "output_type": "stream",
     "text": [
      "Epoch 4/70 Loss:0.7574990590413412 Valid Acc:20.0\n"
     ]
    },
    {
     "name": "stderr",
     "output_type": "stream",
     "text": [
      "100%|██████████| 3/3 [00:19<00:00,  6.39s/it, loss=0.504]\n"
     ]
    },
    {
     "name": "stdout",
     "output_type": "stream",
     "text": [
      "Epoch 5/70 Loss:0.503511925538381 Valid Acc:20.0\n"
     ]
    },
    {
     "name": "stderr",
     "output_type": "stream",
     "text": [
      "100%|██████████| 3/3 [00:20<00:00,  6.75s/it, loss=0.381]\n"
     ]
    },
    {
     "name": "stdout",
     "output_type": "stream",
     "text": [
      "Epoch 6/70 Loss:0.3812357783317566 Valid Acc:40.0\n"
     ]
    },
    {
     "name": "stderr",
     "output_type": "stream",
     "text": [
      "100%|██████████| 3/3 [00:20<00:00,  6.72s/it, loss=0.233]\n"
     ]
    },
    {
     "name": "stdout",
     "output_type": "stream",
     "text": [
      "Epoch 7/70 Loss:0.23338399330774942 Valid Acc:40.0\n"
     ]
    },
    {
     "name": "stderr",
     "output_type": "stream",
     "text": [
      "100%|██████████| 3/3 [00:19<00:00,  6.57s/it, loss=0.174]\n"
     ]
    },
    {
     "name": "stdout",
     "output_type": "stream",
     "text": [
      "Epoch 8/70 Loss:0.1744750738143921 Valid Acc:40.0\n"
     ]
    },
    {
     "name": "stderr",
     "output_type": "stream",
     "text": [
      "100%|██████████| 3/3 [00:19<00:00,  6.65s/it, loss=0.136]\n"
     ]
    },
    {
     "name": "stdout",
     "output_type": "stream",
     "text": [
      "Epoch 9/70 Loss:0.1359978268543879 Valid Acc:40.0\n"
     ]
    },
    {
     "name": "stderr",
     "output_type": "stream",
     "text": [
      "100%|██████████| 3/3 [00:19<00:00,  6.51s/it, loss=0.105]\n"
     ]
    },
    {
     "name": "stdout",
     "output_type": "stream",
     "text": [
      "Epoch 10/70 Loss:0.105216217537721 Valid Acc:40.0\n"
     ]
    },
    {
     "name": "stderr",
     "output_type": "stream",
     "text": [
      "100%|██████████| 3/3 [00:20<00:00,  6.86s/it, loss=0.087]\n"
     ]
    },
    {
     "name": "stdout",
     "output_type": "stream",
     "text": [
      "Epoch 11/70 Loss:0.0869710569580396 Valid Acc:40.0\n"
     ]
    },
    {
     "name": "stderr",
     "output_type": "stream",
     "text": [
      "100%|██████████| 3/3 [00:19<00:00,  6.54s/it, loss=0.076]\n"
     ]
    },
    {
     "name": "stdout",
     "output_type": "stream",
     "text": [
      "Epoch 12/70 Loss:0.07639180123806 Valid Acc:40.0\n"
     ]
    },
    {
     "name": "stderr",
     "output_type": "stream",
     "text": [
      "100%|██████████| 3/3 [00:19<00:00,  6.60s/it, loss=0.064]\n"
     ]
    },
    {
     "name": "stdout",
     "output_type": "stream",
     "text": [
      "Epoch 13/70 Loss:0.06354184448719025 Valid Acc:40.0\n"
     ]
    },
    {
     "name": "stderr",
     "output_type": "stream",
     "text": [
      "100%|██████████| 3/3 [00:19<00:00,  6.58s/it, loss=0.060]\n"
     ]
    },
    {
     "name": "stdout",
     "output_type": "stream",
     "text": [
      "Epoch 14/70 Loss:0.060121419529120125 Valid Acc:40.0\n"
     ]
    },
    {
     "name": "stderr",
     "output_type": "stream",
     "text": [
      "100%|██████████| 3/3 [00:19<00:00,  6.57s/it, loss=0.057]\n"
     ]
    },
    {
     "name": "stdout",
     "output_type": "stream",
     "text": [
      "Epoch 15/70 Loss:0.05698063845435778 Valid Acc:40.0\n"
     ]
    },
    {
     "name": "stderr",
     "output_type": "stream",
     "text": [
      "100%|██████████| 3/3 [00:21<00:00,  7.28s/it, loss=0.046]\n"
     ]
    },
    {
     "name": "stdout",
     "output_type": "stream",
     "text": [
      "Epoch 16/70 Loss:0.045892554024855294 Valid Acc:40.0\n"
     ]
    },
    {
     "name": "stderr",
     "output_type": "stream",
     "text": [
      "100%|██████████| 3/3 [00:20<00:00,  6.73s/it, loss=0.045]\n"
     ]
    },
    {
     "name": "stdout",
     "output_type": "stream",
     "text": [
      "Epoch 17/70 Loss:0.0452279324332873 Valid Acc:40.0\n"
     ]
    },
    {
     "name": "stderr",
     "output_type": "stream",
     "text": [
      "100%|██████████| 3/3 [00:20<00:00,  6.91s/it, loss=0.046]\n"
     ]
    },
    {
     "name": "stdout",
     "output_type": "stream",
     "text": [
      "Epoch 18/70 Loss:0.046414277205864586 Valid Acc:40.0\n"
     ]
    },
    {
     "name": "stderr",
     "output_type": "stream",
     "text": [
      "100%|██████████| 3/3 [00:20<00:00,  6.93s/it, loss=0.035]\n"
     ]
    },
    {
     "name": "stdout",
     "output_type": "stream",
     "text": [
      "Epoch 19/70 Loss:0.03464870651563009 Valid Acc:40.0\n"
     ]
    },
    {
     "name": "stderr",
     "output_type": "stream",
     "text": [
      "100%|██████████| 3/3 [00:20<00:00,  6.88s/it, loss=0.036]\n"
     ]
    },
    {
     "name": "stdout",
     "output_type": "stream",
     "text": [
      "Epoch 20/70 Loss:0.03617993742227554 Valid Acc:40.0\n"
     ]
    },
    {
     "name": "stderr",
     "output_type": "stream",
     "text": [
      "100%|██████████| 3/3 [00:22<00:00,  7.45s/it, loss=0.035]\n"
     ]
    },
    {
     "name": "stdout",
     "output_type": "stream",
     "text": [
      "Epoch 21/70 Loss:0.0345105038334926 Valid Acc:40.0\n"
     ]
    },
    {
     "name": "stderr",
     "output_type": "stream",
     "text": [
      "100%|██████████| 3/3 [00:20<00:00,  6.71s/it, loss=0.030]\n"
     ]
    },
    {
     "name": "stdout",
     "output_type": "stream",
     "text": [
      "Epoch 22/70 Loss:0.030286913737654686 Valid Acc:40.0\n"
     ]
    },
    {
     "name": "stderr",
     "output_type": "stream",
     "text": [
      "100%|██████████| 3/3 [00:21<00:00,  7.31s/it, loss=0.028]\n"
     ]
    },
    {
     "name": "stdout",
     "output_type": "stream",
     "text": [
      "Epoch 23/70 Loss:0.028170902902881306 Valid Acc:40.0\n"
     ]
    },
    {
     "name": "stderr",
     "output_type": "stream",
     "text": [
      "100%|██████████| 3/3 [00:22<00:00,  7.49s/it, loss=0.030]\n"
     ]
    },
    {
     "name": "stdout",
     "output_type": "stream",
     "text": [
      "Epoch 24/70 Loss:0.02977628695468108 Valid Acc:40.0\n"
     ]
    },
    {
     "name": "stderr",
     "output_type": "stream",
     "text": [
      "100%|██████████| 3/3 [00:22<00:00,  7.56s/it, loss=0.032]\n"
     ]
    },
    {
     "name": "stdout",
     "output_type": "stream",
     "text": [
      "Epoch 25/70 Loss:0.03230841954549154 Valid Acc:40.0\n"
     ]
    },
    {
     "name": "stderr",
     "output_type": "stream",
     "text": [
      "100%|██████████| 3/3 [00:23<00:00,  7.91s/it, loss=0.029]\n"
     ]
    },
    {
     "name": "stdout",
     "output_type": "stream",
     "text": [
      "Epoch 26/70 Loss:0.028629037241141003 Valid Acc:40.0\n"
     ]
    },
    {
     "name": "stderr",
     "output_type": "stream",
     "text": [
      "100%|██████████| 3/3 [00:22<00:00,  7.54s/it, loss=0.026]\n"
     ]
    },
    {
     "name": "stdout",
     "output_type": "stream",
     "text": [
      "Epoch 27/70 Loss:0.02589004983504613 Valid Acc:40.0\n"
     ]
    },
    {
     "name": "stderr",
     "output_type": "stream",
     "text": [
      "100%|██████████| 3/3 [00:22<00:00,  7.37s/it, loss=0.021]\n"
     ]
    },
    {
     "name": "stdout",
     "output_type": "stream",
     "text": [
      "Epoch 28/70 Loss:0.02133405456940333 Valid Acc:40.0\n"
     ]
    },
    {
     "name": "stderr",
     "output_type": "stream",
     "text": [
      "100%|██████████| 3/3 [00:21<00:00,  7.30s/it, loss=0.025]\n"
     ]
    },
    {
     "name": "stdout",
     "output_type": "stream",
     "text": [
      "Epoch 29/70 Loss:0.024758956705530483 Valid Acc:40.0\n"
     ]
    },
    {
     "name": "stderr",
     "output_type": "stream",
     "text": [
      "100%|██████████| 3/3 [00:22<00:00,  7.41s/it, loss=0.021]\n"
     ]
    },
    {
     "name": "stdout",
     "output_type": "stream",
     "text": [
      "Epoch 30/70 Loss:0.020659872020284336 Valid Acc:40.0\n"
     ]
    },
    {
     "name": "stderr",
     "output_type": "stream",
     "text": [
      "100%|██████████| 3/3 [00:22<00:00,  7.41s/it, loss=0.022]\n"
     ]
    },
    {
     "name": "stdout",
     "output_type": "stream",
     "text": [
      "Epoch 31/70 Loss:0.022073788568377495 Valid Acc:40.0\n"
     ]
    },
    {
     "name": "stderr",
     "output_type": "stream",
     "text": [
      "100%|██████████| 3/3 [00:22<00:00,  7.36s/it, loss=0.023]\n"
     ]
    },
    {
     "name": "stdout",
     "output_type": "stream",
     "text": [
      "Epoch 32/70 Loss:0.0230102576315403 Valid Acc:40.0\n"
     ]
    },
    {
     "name": "stderr",
     "output_type": "stream",
     "text": [
      "100%|██████████| 3/3 [00:21<00:00,  7.26s/it, loss=0.024]\n"
     ]
    },
    {
     "name": "stdout",
     "output_type": "stream",
     "text": [
      "Epoch 33/70 Loss:0.023794422547022503 Valid Acc:40.0\n"
     ]
    },
    {
     "name": "stderr",
     "output_type": "stream",
     "text": [
      "100%|██████████| 3/3 [00:21<00:00,  7.30s/it, loss=0.025]\n"
     ]
    },
    {
     "name": "stdout",
     "output_type": "stream",
     "text": [
      "Epoch 34/70 Loss:0.024786490947008133 Valid Acc:40.0\n"
     ]
    },
    {
     "name": "stderr",
     "output_type": "stream",
     "text": [
      "100%|██████████| 3/3 [00:22<00:00,  7.35s/it, loss=0.021]\n"
     ]
    },
    {
     "name": "stdout",
     "output_type": "stream",
     "text": [
      "Epoch 35/70 Loss:0.02096675770978133 Valid Acc:40.0\n"
     ]
    },
    {
     "name": "stderr",
     "output_type": "stream",
     "text": [
      "100%|██████████| 3/3 [00:21<00:00,  7.30s/it, loss=0.023]\n"
     ]
    },
    {
     "name": "stdout",
     "output_type": "stream",
     "text": [
      "Epoch 36/70 Loss:0.023161013300220173 Valid Acc:40.0\n"
     ]
    },
    {
     "name": "stderr",
     "output_type": "stream",
     "text": [
      "100%|██████████| 3/3 [00:22<00:00,  7.54s/it, loss=0.021]\n"
     ]
    },
    {
     "name": "stdout",
     "output_type": "stream",
     "text": [
      "Epoch 37/70 Loss:0.020967818175752957 Valid Acc:40.0\n"
     ]
    },
    {
     "name": "stderr",
     "output_type": "stream",
     "text": [
      "100%|██████████| 3/3 [00:21<00:00,  7.30s/it, loss=0.019]\n"
     ]
    },
    {
     "name": "stdout",
     "output_type": "stream",
     "text": [
      "Epoch 38/70 Loss:0.019042784969011944 Valid Acc:40.0\n"
     ]
    },
    {
     "name": "stderr",
     "output_type": "stream",
     "text": [
      "100%|██████████| 3/3 [00:21<00:00,  7.29s/it, loss=0.026]\n"
     ]
    },
    {
     "name": "stdout",
     "output_type": "stream",
     "text": [
      "Epoch 39/70 Loss:0.026213090245922405 Valid Acc:40.0\n"
     ]
    },
    {
     "name": "stderr",
     "output_type": "stream",
     "text": [
      "100%|██████████| 3/3 [00:22<00:00,  7.49s/it, loss=0.018]\n"
     ]
    },
    {
     "name": "stdout",
     "output_type": "stream",
     "text": [
      "Epoch 40/70 Loss:0.017950306956966717 Valid Acc:40.0\n"
     ]
    },
    {
     "name": "stderr",
     "output_type": "stream",
     "text": [
      "100%|██████████| 3/3 [00:21<00:00,  7.21s/it, loss=0.020]\n"
     ]
    },
    {
     "name": "stdout",
     "output_type": "stream",
     "text": [
      "Epoch 41/70 Loss:0.0204341368128856 Valid Acc:40.0\n"
     ]
    },
    {
     "name": "stderr",
     "output_type": "stream",
     "text": [
      "100%|██████████| 3/3 [00:22<00:00,  7.42s/it, loss=0.021]\n"
     ]
    },
    {
     "name": "stdout",
     "output_type": "stream",
     "text": [
      "Epoch 42/70 Loss:0.02144251236071189 Valid Acc:40.0\n"
     ]
    },
    {
     "name": "stderr",
     "output_type": "stream",
     "text": [
      "100%|██████████| 3/3 [00:21<00:00,  7.30s/it, loss=0.020]\n"
     ]
    },
    {
     "name": "stdout",
     "output_type": "stream",
     "text": [
      "Epoch 43/70 Loss:0.020147614181041718 Valid Acc:40.0\n"
     ]
    },
    {
     "name": "stderr",
     "output_type": "stream",
     "text": [
      "100%|██████████| 3/3 [00:22<00:00,  7.49s/it, loss=0.027]\n"
     ]
    },
    {
     "name": "stdout",
     "output_type": "stream",
     "text": [
      "Epoch 44/70 Loss:0.02688032699127992 Valid Acc:40.0\n"
     ]
    },
    {
     "name": "stderr",
     "output_type": "stream",
     "text": [
      "100%|██████████| 3/3 [00:22<00:00,  7.52s/it, loss=0.021]\n"
     ]
    },
    {
     "name": "stdout",
     "output_type": "stream",
     "text": [
      "Epoch 45/70 Loss:0.020545356596509617 Valid Acc:40.0\n"
     ]
    },
    {
     "name": "stderr",
     "output_type": "stream",
     "text": [
      "100%|██████████| 3/3 [00:21<00:00,  7.26s/it, loss=0.019]\n"
     ]
    },
    {
     "name": "stdout",
     "output_type": "stream",
     "text": [
      "Epoch 46/70 Loss:0.018967966238657635 Valid Acc:40.0\n"
     ]
    },
    {
     "name": "stderr",
     "output_type": "stream",
     "text": [
      "100%|██████████| 3/3 [00:23<00:00,  7.77s/it, loss=0.022]\n"
     ]
    },
    {
     "name": "stdout",
     "output_type": "stream",
     "text": [
      "Epoch 47/70 Loss:0.021995603417356808 Valid Acc:40.0\n"
     ]
    },
    {
     "name": "stderr",
     "output_type": "stream",
     "text": [
      "100%|██████████| 3/3 [00:23<00:00,  7.71s/it, loss=0.023]\n"
     ]
    },
    {
     "name": "stdout",
     "output_type": "stream",
     "text": [
      "Epoch 48/70 Loss:0.023238808537522953 Valid Acc:40.0\n"
     ]
    },
    {
     "name": "stderr",
     "output_type": "stream",
     "text": [
      "100%|██████████| 3/3 [00:22<00:00,  7.60s/it, loss=0.025]\n"
     ]
    },
    {
     "name": "stdout",
     "output_type": "stream",
     "text": [
      "Epoch 49/70 Loss:0.025462886318564415 Valid Acc:40.0\n"
     ]
    },
    {
     "name": "stderr",
     "output_type": "stream",
     "text": [
      "100%|██████████| 3/3 [00:22<00:00,  7.65s/it, loss=0.018]\n"
     ]
    },
    {
     "name": "stdout",
     "output_type": "stream",
     "text": [
      "Epoch 50/70 Loss:0.0177295816441377 Valid Acc:40.0\n"
     ]
    },
    {
     "name": "stderr",
     "output_type": "stream",
     "text": [
      "100%|██████████| 3/3 [00:21<00:00,  7.33s/it, loss=0.020]\n"
     ]
    },
    {
     "name": "stdout",
     "output_type": "stream",
     "text": [
      "Epoch 51/70 Loss:0.020119805509845417 Valid Acc:40.0\n"
     ]
    },
    {
     "name": "stderr",
     "output_type": "stream",
     "text": [
      "100%|██████████| 3/3 [00:23<00:00,  7.93s/it, loss=0.021]\n"
     ]
    },
    {
     "name": "stdout",
     "output_type": "stream",
     "text": [
      "Epoch 52/70 Loss:0.021012553324302036 Valid Acc:40.0\n"
     ]
    },
    {
     "name": "stderr",
     "output_type": "stream",
     "text": [
      "100%|██████████| 3/3 [00:21<00:00,  7.32s/it, loss=0.018]\n"
     ]
    },
    {
     "name": "stdout",
     "output_type": "stream",
     "text": [
      "Epoch 53/70 Loss:0.017670420929789543 Valid Acc:40.0\n"
     ]
    },
    {
     "name": "stderr",
     "output_type": "stream",
     "text": [
      "100%|██████████| 3/3 [00:21<00:00,  7.30s/it, loss=0.019]\n"
     ]
    },
    {
     "name": "stdout",
     "output_type": "stream",
     "text": [
      "Epoch 54/70 Loss:0.018910609806577366 Valid Acc:40.0\n"
     ]
    },
    {
     "name": "stderr",
     "output_type": "stream",
     "text": [
      "100%|██████████| 3/3 [00:22<00:00,  7.44s/it, loss=0.019]\n"
     ]
    },
    {
     "name": "stdout",
     "output_type": "stream",
     "text": [
      "Epoch 55/70 Loss:0.01925298012793064 Valid Acc:40.0\n"
     ]
    },
    {
     "name": "stderr",
     "output_type": "stream",
     "text": [
      "100%|██████████| 3/3 [00:22<00:00,  7.44s/it, loss=0.018]\n"
     ]
    },
    {
     "name": "stdout",
     "output_type": "stream",
     "text": [
      "Epoch 56/70 Loss:0.01780678393940131 Valid Acc:40.0\n"
     ]
    },
    {
     "name": "stderr",
     "output_type": "stream",
     "text": [
      "100%|██████████| 3/3 [00:22<00:00,  7.44s/it, loss=0.019]\n"
     ]
    },
    {
     "name": "stdout",
     "output_type": "stream",
     "text": [
      "Epoch 57/70 Loss:0.019017283494273823 Valid Acc:40.0\n"
     ]
    },
    {
     "name": "stderr",
     "output_type": "stream",
     "text": [
      "100%|██████████| 3/3 [00:23<00:00,  7.77s/it, loss=0.020]\n"
     ]
    },
    {
     "name": "stdout",
     "output_type": "stream",
     "text": [
      "Epoch 58/70 Loss:0.020195110390583675 Valid Acc:40.0\n"
     ]
    },
    {
     "name": "stderr",
     "output_type": "stream",
     "text": [
      "100%|██████████| 3/3 [00:22<00:00,  7.51s/it, loss=0.019]\n"
     ]
    },
    {
     "name": "stdout",
     "output_type": "stream",
     "text": [
      "Epoch 59/70 Loss:0.019351980338493984 Valid Acc:40.0\n"
     ]
    },
    {
     "name": "stderr",
     "output_type": "stream",
     "text": [
      "100%|██████████| 3/3 [00:22<00:00,  7.49s/it, loss=0.022]\n"
     ]
    },
    {
     "name": "stdout",
     "output_type": "stream",
     "text": [
      "Epoch 60/70 Loss:0.021605716397364933 Valid Acc:40.0\n"
     ]
    },
    {
     "name": "stderr",
     "output_type": "stream",
     "text": [
      "100%|██████████| 3/3 [00:22<00:00,  7.58s/it, loss=0.018]\n"
     ]
    },
    {
     "name": "stdout",
     "output_type": "stream",
     "text": [
      "Epoch 61/70 Loss:0.018486222873131435 Valid Acc:40.0\n"
     ]
    },
    {
     "name": "stderr",
     "output_type": "stream",
     "text": [
      "100%|██████████| 3/3 [00:22<00:00,  7.37s/it, loss=0.017]\n"
     ]
    },
    {
     "name": "stdout",
     "output_type": "stream",
     "text": [
      "Epoch 62/70 Loss:0.017360294858614605 Valid Acc:40.0\n"
     ]
    },
    {
     "name": "stderr",
     "output_type": "stream",
     "text": [
      "100%|██████████| 3/3 [00:22<00:00,  7.35s/it, loss=0.018]\n"
     ]
    },
    {
     "name": "stdout",
     "output_type": "stream",
     "text": [
      "Epoch 63/70 Loss:0.018069473405679066 Valid Acc:40.0\n"
     ]
    },
    {
     "name": "stderr",
     "output_type": "stream",
     "text": [
      "100%|██████████| 3/3 [00:21<00:00,  7.25s/it, loss=0.021]\n"
     ]
    },
    {
     "name": "stdout",
     "output_type": "stream",
     "text": [
      "Epoch 64/70 Loss:0.021227749064564705 Valid Acc:40.0\n"
     ]
    },
    {
     "name": "stderr",
     "output_type": "stream",
     "text": [
      "100%|██████████| 3/3 [00:22<00:00,  7.51s/it, loss=0.019]\n"
     ]
    },
    {
     "name": "stdout",
     "output_type": "stream",
     "text": [
      "Epoch 65/70 Loss:0.01895884796977043 Valid Acc:40.0\n"
     ]
    },
    {
     "name": "stderr",
     "output_type": "stream",
     "text": [
      "100%|██████████| 3/3 [00:22<00:00,  7.40s/it, loss=0.018]\n"
     ]
    },
    {
     "name": "stdout",
     "output_type": "stream",
     "text": [
      "Epoch 66/70 Loss:0.01754080007473628 Valid Acc:40.0\n"
     ]
    },
    {
     "name": "stderr",
     "output_type": "stream",
     "text": [
      "100%|██████████| 3/3 [00:23<00:00,  7.73s/it, loss=0.021]\n"
     ]
    },
    {
     "name": "stdout",
     "output_type": "stream",
     "text": [
      "Epoch 67/70 Loss:0.021185032402475674 Valid Acc:40.0\n"
     ]
    },
    {
     "name": "stderr",
     "output_type": "stream",
     "text": [
      "100%|██████████| 3/3 [00:22<00:00,  7.52s/it, loss=0.017]\n"
     ]
    },
    {
     "name": "stdout",
     "output_type": "stream",
     "text": [
      "Epoch 68/70 Loss:0.017014289274811745 Valid Acc:40.0\n"
     ]
    },
    {
     "name": "stderr",
     "output_type": "stream",
     "text": [
      "100%|██████████| 3/3 [00:23<00:00,  7.81s/it, loss=0.018]\n"
     ]
    },
    {
     "name": "stdout",
     "output_type": "stream",
     "text": [
      "Epoch 69/70 Loss:0.01842161174863577 Valid Acc:40.0\n"
     ]
    }
   ],
   "source": [
    "train_and_evaluate(model, device, train_loader, val_loader, optimizer, loss_fn, writer, params, 1, scheduler)"
   ]
  },
  {
   "cell_type": "code",
   "execution_count": null,
   "id": "ce99a2ca",
   "metadata": {},
   "outputs": [],
   "source": []
  }
 ],
 "metadata": {
  "kernelspec": {
   "display_name": "base",
   "language": "python",
   "name": "python3"
  },
  "language_info": {
   "codemirror_mode": {
    "name": "ipython",
    "version": 3
   },
   "file_extension": ".py",
   "mimetype": "text/x-python",
   "name": "python",
   "nbconvert_exporter": "python",
   "pygments_lexer": "ipython3",
   "version": "3.10.14"
  }
 },
 "nbformat": 4,
 "nbformat_minor": 5
}
